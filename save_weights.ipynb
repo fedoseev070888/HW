{
  "nbformat": 4,
  "nbformat_minor": 0,
  "metadata": {
    "colab": {
      "provenance": [],
      "authorship_tag": "ABX9TyOeRtP81Q6bVkG1ZLnbmXTN",
      "include_colab_link": true
    },
    "kernelspec": {
      "name": "python3",
      "display_name": "Python 3"
    },
    "language_info": {
      "name": "python"
    }
  },
  "cells": [
    {
      "cell_type": "markdown",
      "metadata": {
        "id": "view-in-github",
        "colab_type": "text"
      },
      "source": [
        "<a href=\"https://colab.research.google.com/github/fedoseev070888/HW/blob/main/save_weights.ipynb\" target=\"_parent\"><img src=\"https://colab.research.google.com/assets/colab-badge.svg\" alt=\"Open In Colab\"/></a>"
      ]
    },
    {
      "cell_type": "code",
      "source": [
        "from keras.applications.vgg16 import VGG16\n",
        "from tensorflow.keras.models import Sequential\n",
        "from tensorflow.keras.layers import  Dense, Flatten\n",
        "from tensorflow.keras.optimizers import Adam\n",
        "import os"
      ],
      "metadata": {
        "id": "rziraVZVaV7F"
      },
      "execution_count": null,
      "outputs": []
    },
    {
      "cell_type": "markdown",
      "source": [
        "# **Создаём основную модель для обучения и предсказаний**"
      ],
      "metadata": {
        "id": "35jjFkd1hojW"
      }
    },
    {
      "cell_type": "code",
      "source": [
        "vgg16_net = VGG16(weights='imagenet', include_top=False, input_shape=(224,224,3))\n",
        "vgg16_net.trainable = False\n",
        "\n",
        "model = Sequential()\n",
        "model.add(vgg16_net)\n",
        "model.add(Flatten())\n",
        "model.add(Dense(4096, activation = 'relu'))\n",
        "model.add(Dense(1, activation = 'sigmoid'))"
      ],
      "metadata": {
        "id": "rBGt4Cptg5AS"
      },
      "execution_count": null,
      "outputs": []
    },
    {
      "cell_type": "code",
      "source": [
        "model.summary()"
      ],
      "metadata": {
        "id": "N9kaBtX8hC0w",
        "colab": {
          "base_uri": "https://localhost:8080/"
        },
        "outputId": "46336069-89fe-4ed3-b604-fb183ca18e2f"
      },
      "execution_count": null,
      "outputs": [
        {
          "output_type": "stream",
          "name": "stdout",
          "text": [
            "Model: \"sequential_1\"\n",
            "_________________________________________________________________\n",
            " Layer (type)                Output Shape              Param #   \n",
            "=================================================================\n",
            " vgg16 (Functional)          (None, 7, 7, 512)         14714688  \n",
            "                                                                 \n",
            " flatten (Flatten)           (None, 25088)             0         \n",
            "                                                                 \n",
            " dense (Dense)               (None, 4096)              102764544 \n",
            "                                                                 \n",
            " dense_1 (Dense)             (None, 1)                 4097      \n",
            "                                                                 \n",
            "=================================================================\n",
            "Total params: 117,483,329\n",
            "Trainable params: 102,768,641\n",
            "Non-trainable params: 14,714,688\n",
            "_________________________________________________________________\n"
          ]
        }
      ]
    },
    {
      "cell_type": "markdown",
      "source": [
        "# **Обучаем**"
      ],
      "metadata": {
        "id": "ZzrgpS6eiqr0"
      }
    },
    {
      "cell_type": "code",
      "source": [
        "model.compile(loss='binary_crossentropy', optimizer=Adam(learning_rate=0.0001), metrics=['accuracy'])"
      ],
      "metadata": {
        "id": "qdbwAmdHhNpX"
      },
      "execution_count": null,
      "outputs": []
    },
    {
      "cell_type": "code",
      "source": [
        "#model.fit_generator(train_ds, validation_data = validation_ds, shuffle=True, epochs=20, verbose=1)"
      ],
      "metadata": {
        "id": "qpgaHdo8hP_4"
      },
      "execution_count": null,
      "outputs": []
    },
    {
      "cell_type": "markdown",
      "source": [
        "# **Создаём модель для сохранения части весов основной модели**"
      ],
      "metadata": {
        "id": "LmvxCIeuhzUX"
      }
    },
    {
      "cell_type": "code",
      "source": [
        "neuron_count = model.layers[2].get_weights()[0].shape[1] # количество нейронов в предпоследнем слое основной модели\n",
        "input = model.layers[2].get_weights()[0].shape[0]        # количество связей предпоследнего слоя с предыдущим слоем в основной модели\n",
        "\n",
        "\n",
        "model_for_save = Sequential()\n",
        "model_for_save.add(Dense(neuron_count, input_dim = input))\n",
        "model_for_save.add(Dense(1))\n",
        "model_for_save.build()"
      ],
      "metadata": {
        "id": "23xnDp68heAA"
      },
      "execution_count": null,
      "outputs": []
    },
    {
      "cell_type": "markdown",
      "source": [
        "# **Присваиваем веса в model_for_save из model**"
      ],
      "metadata": {
        "id": "nSF0xnivdz2o"
      }
    },
    {
      "cell_type": "code",
      "source": [
        "w_1 = model.layers[2].get_weights()[0]              # веса-множители для предпоследнего слоя для 4096 нейронов \n",
        "b_1 = model.layers[2].get_weights()[1]              # смещение для предпоследнего слоя для 4096 нейронов \n",
        "\n",
        "w_2 = model.layers[3].get_weights()[0]              # веса-множители для последнего слоя для 1 нейрона\n",
        "b_2 = model.layers[3].get_weights()[1]              # смещение для последнего слоя для 1 нейрона\n",
        "\n",
        "model_for_save.layers[0].set_weights([w_1, b_1])    # присваиваем веса предпоследнего слоя\n",
        "model_for_save.layers[1].set_weights([w_2, b_2])    # присваиваем веса последнего слоя"
      ],
      "metadata": {
        "id": "LwHnlTwsheHw"
      },
      "execution_count": null,
      "outputs": []
    },
    {
      "cell_type": "markdown",
      "source": [
        "# **Сохраняем веса**"
      ],
      "metadata": {
        "id": "Up8sh2lxgXRT"
      }
    },
    {
      "cell_type": "code",
      "source": [
        "model_for_save.save_weights('model_for_save.h5')"
      ],
      "metadata": {
        "id": "RcXwxeuEjjv6"
      },
      "execution_count": null,
      "outputs": []
    },
    {
      "cell_type": "markdown",
      "source": [
        "# **Загружаем веса**"
      ],
      "metadata": {
        "id": "5Nfb8E7cgb_3"
      }
    },
    {
      "cell_type": "code",
      "source": [
        "model_for_save.load_weights('model_for_save.h5')"
      ],
      "metadata": {
        "id": "qagqWry2jouC"
      },
      "execution_count": null,
      "outputs": []
    },
    {
      "cell_type": "markdown",
      "source": [
        "# **Присваиваем веса обратно в model из model_for_save**"
      ],
      "metadata": {
        "id": "8Yajcb0Xgt8g"
      }
    },
    {
      "cell_type": "code",
      "source": [
        "w_1 = model_for_save.layers[0].get_weights()[0]\n",
        "b_1 = model_for_save.layers[0].get_weights()[1]\n",
        "\n",
        "w_2 = model_for_save.layers[1].get_weights()[0]\n",
        "b_2 = model_for_save.layers[1].get_weights()[1]\n",
        "\n",
        "model.layers[2].set_weights([w_1, b_1])\n",
        "model.layers[3].set_weights([w_2, b_2])"
      ],
      "metadata": {
        "id": "JnrBlDGejvq6"
      },
      "execution_count": null,
      "outputs": []
    },
    {
      "cell_type": "markdown",
      "source": [
        "# **Сравним размер фалов весов обоих моделей**"
      ],
      "metadata": {
        "id": "ZqXkkljaj6T7"
      }
    },
    {
      "cell_type": "markdown",
      "source": [
        "рзмер файла весов **model_for_save**"
      ],
      "metadata": {
        "id": "fMzXeh37kINM"
      }
    },
    {
      "cell_type": "code",
      "source": [
        "os.path.getsize(\"/content/model_for_save.h5\")"
      ],
      "metadata": {
        "colab": {
          "base_uri": "https://localhost:8080/"
        },
        "id": "wp4aqTvTjodV",
        "outputId": "9f0a4915-2395-4a16-fc15-991b70f7edd1"
      },
      "execution_count": null,
      "outputs": [
        {
          "output_type": "execute_result",
          "data": {
            "text/plain": [
              "411086852"
            ]
          },
          "metadata": {},
          "execution_count": 22
        }
      ]
    },
    {
      "cell_type": "markdown",
      "source": [
        "рзмер файла весов основной модели **model**"
      ],
      "metadata": {
        "id": "7vI51cSDkQiO"
      }
    },
    {
      "cell_type": "code",
      "source": [
        "model.save_weights('model.h5')"
      ],
      "metadata": {
        "id": "Hh9zzL39kYny"
      },
      "execution_count": null,
      "outputs": []
    },
    {
      "cell_type": "code",
      "source": [
        "os.path.getsize(\"/content/model.h5\")"
      ],
      "metadata": {
        "colab": {
          "base_uri": "https://localhost:8080/"
        },
        "id": "lbvOjSEdkQqs",
        "outputId": "45d8ed64-3614-4303-8ad3-4ef689b675ba"
      },
      "execution_count": null,
      "outputs": [
        {
          "output_type": "execute_result",
          "data": {
            "text/plain": [
              "469969824"
            ]
          },
          "metadata": {},
          "execution_count": 24
        }
      ]
    },
    {
      "cell_type": "markdown",
      "source": [
        "рзмер файла весов основной модели **model**, но без полносвязных слоёв"
      ],
      "metadata": {
        "id": "f7sr5KtbluGL"
      }
    },
    {
      "cell_type": "code",
      "source": [
        "vgg16_net = VGG16(weights='imagenet', include_top=False, input_shape=(224,224,3))\n",
        "vgg16_net.trainable = False\n",
        "\n",
        "model = Sequential()\n",
        "model.add(vgg16_net)"
      ],
      "metadata": {
        "id": "Ud3Rqm7rluMx"
      },
      "execution_count": null,
      "outputs": []
    },
    {
      "cell_type": "code",
      "source": [
        "model.save_weights('model_without_top.h5')"
      ],
      "metadata": {
        "id": "_2r5ZNRUmHCi"
      },
      "execution_count": null,
      "outputs": []
    },
    {
      "cell_type": "code",
      "source": [
        "os.path.getsize(\"/content/model_without_top.h5\")"
      ],
      "metadata": {
        "colab": {
          "base_uri": "https://localhost:8080/"
        },
        "id": "GeU0mS86mp72",
        "outputId": "69f62dc7-4bf1-41d1-8842-724cbb4c26ed"
      },
      "execution_count": null,
      "outputs": [
        {
          "output_type": "execute_result",
          "data": {
            "text/plain": [
              "58888264"
            ]
          },
          "metadata": {},
          "execution_count": 27
        }
      ]
    }
  ]
}